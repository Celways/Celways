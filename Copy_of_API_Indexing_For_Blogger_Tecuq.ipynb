{
  "nbformat": 4,
  "nbformat_minor": 0,
  "metadata": {
    "colab": {
      "provenance": [],
      "include_colab_link": true
    },
    "kernelspec": {
      "name": "python3",
      "display_name": "Python 3"
    },
    "language_info": {
      "name": "python"
    }
  },
  "cells": [
    {
      "cell_type": "markdown",
      "metadata": {
        "id": "view-in-github",
        "colab_type": "text"
      },
      "source": [
        "<a href=\"https://colab.research.google.com/github/Celways/Celways/blob/main/Copy_of_API_Indexing_For_Blogger_Tecuq.ipynb\" target=\"_parent\"><img src=\"https://colab.research.google.com/assets/colab-badge.svg\" alt=\"Open In Colab\"/></a>"
      ]
    },
    {
      "cell_type": "markdown",
      "source": [
        "## **Instant Indexing For Blogger Website's Using Google API**"
      ],
      "metadata": {
        "id": "0uGYx5rzEjaJ"
      }
    },
    {
      "cell_type": "code",
      "source": [
        "#@title **Connect Your Google Drive**\n",
        "#@markdown **To use this method, you have to connect your Google Drive everytime you Refresh/Disconnect/Reset this notebook in order to use the files saved in your drive but no need to re-upload the file again**\n",
        "\n",
        "#@markdown **Provide Yes > Execute the cell**\n",
        "Connect_Google_Drive = \"Yes\" #@param [\"Yes\", \"No\"]\n",
        "if Connect_Google_Drive == \"Yes\":\n",
        "  from google.colab import drive\n",
        "  drive.mount('/content/drive')\n",
        "  print(\"Successfully Connected!\")\n",
        "else:\n",
        "  print(\"Not Connected!\")"
      ],
      "metadata": {
        "cellView": "form",
        "id": "QqBWFgLlFQpF",
        "colab": {
          "base_uri": "https://localhost:8080/"
        },
        "outputId": "043eb8ef-c720-446c-de17-e3e2559995a0"
      },
      "execution_count": null,
      "outputs": [
        {
          "output_type": "stream",
          "name": "stdout",
          "text": [
            "Mounted at /content/drive\n",
            "Successfully Connected!\n"
          ]
        }
      ]
    },
    {
      "cell_type": "code",
      "source": [
        "#@title **Provide Complete Path Of The API Key Here**\n",
        "API_Path = \"//content/drive/MyDrive/celways-seo-b0fe3def2ea7.json\" #@param {type:\"string\"}\n",
        "\n",
        "from oauth2client.service_account import ServiceAccountCredentials\n",
        "import httplib2\n",
        "\n",
        "SCOPES = [\"https://www.googleapis.com/auth/indexing\"]\n",
        "ENDPOINT = \"https://indexing.googleapis.com/v3/urlNotifications:publish\"\n",
        "print('*'*50);print(\"Scopes & Endpoint Configured...\");print('*'*50);print(\"Adding Key...\");print('*'*50);\n",
        "# service_account_file.json is the private key that you created for your service account.\n",
        "JSON_KEY_FILE = API_Path\n",
        "print(\"Key Added Successfully!\");print('*'*50);\n",
        "credentials = ServiceAccountCredentials.from_json_keyfile_name(JSON_KEY_FILE, scopes=SCOPES)\n",
        "http = credentials.authorize(httplib2.Http())\n",
        "print(\"Credentials Successfully Authorized!\");print('*'*50);"
      ],
      "metadata": {
        "cellView": "form",
        "id": "HgmMnKOBQcdR",
        "colab": {
          "base_uri": "https://localhost:8080/"
        },
        "outputId": "4deabab0-403a-4a4e-bf40-665733f0c0e6"
      },
      "execution_count": null,
      "outputs": [
        {
          "output_type": "stream",
          "name": "stdout",
          "text": [
            "**************************************************\n",
            "Scopes & Endpoint Configured...\n",
            "**************************************************\n",
            "Adding Key...\n",
            "**************************************************\n",
            "Key Added Successfully!\n",
            "**************************************************\n",
            "Credentials Successfully Authorized!\n",
            "**************************************************\n"
          ]
        }
      ]
    },
    {
      "cell_type": "code",
      "source": [
        "#@title **Provide Site URL & Update Request Type**\n",
        "#@markdown Site URL will the exact URL you want to update or delete from the Google Search Index. **Also, please make a note that you have to provide URL only for the ownership verfied website. For any other URLs, it will not work.**\n",
        "siteURL = \"https://celways.blogspot.com/2018/07/behind-battery-draining-fast-repair.html\" #@param {type:\"string\"}\n",
        "requestType = \"URL_UPDATED\" #@param [\"URL_UPDATED\", \"URL_DELETED\"]\n",
        "content = str({'url':siteURL,'type':requestType})\n",
        "print(\"RESULT:\");print('*'*50);print(\"URL and Update Request Type Configured!\");print('*'*50);\n",
        "\n",
        "response, content = http.request(ENDPOINT, method=\"POST\", body=content)\n",
        "output = response['status']\n",
        "\n",
        "if output == '200':\n",
        "  print(\"Successfully Done!\");print('*'*50);\n",
        "\n",
        "else:\n",
        "  print(\"Error Code: {}\".format(output));print('*'*50);\n",
        "  print(\"Visit Here For More: https://developers.google.com/search/apis/indexing-api/v3/core-errors#api-errors\");\n",
        "  print('*'*50);"
      ],
      "metadata": {
        "cellView": "form",
        "id": "VuJ-Pt1eS8mT",
        "colab": {
          "base_uri": "https://localhost:8080/"
        },
        "outputId": "3d40734e-408f-42be-d79c-a29f5e9a0267"
      },
      "execution_count": null,
      "outputs": [
        {
          "output_type": "stream",
          "name": "stdout",
          "text": [
            "RESULT:\n",
            "**************************************************\n",
            "URL and Update Request Type Configured!\n",
            "**************************************************\n",
            "Successfully Done!\n",
            "**************************************************\n"
          ]
        }
      ]
    }
  ]
}